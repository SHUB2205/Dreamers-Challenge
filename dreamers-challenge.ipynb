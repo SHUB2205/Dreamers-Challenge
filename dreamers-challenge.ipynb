{
 "cells": [
  {
   "cell_type": "code",
   "execution_count": 1,
   "id": "107d5a72",
   "metadata": {
    "_cell_guid": "b1076dfc-b9ad-4769-8c92-a6c4dae69d19",
    "_uuid": "8f2839f25d086af736a60e9eeb907d3b93b6e0e5",
    "execution": {
     "iopub.execute_input": "2024-11-02T07:50:57.911153Z",
     "iopub.status.busy": "2024-11-02T07:50:57.910023Z",
     "iopub.status.idle": "2024-11-02T07:51:07.245293Z",
     "shell.execute_reply": "2024-11-02T07:51:07.244061Z"
    },
    "papermill": {
     "duration": 9.342585,
     "end_time": "2024-11-02T07:51:07.247962",
     "exception": false,
     "start_time": "2024-11-02T07:50:57.905377",
     "status": "completed"
    },
    "tags": []
   },
   "outputs": [],
   "source": [
    "import pandas as pd\n",
    "import numpy as np\n",
    "from sklearn.ensemble import RandomForestClassifier\n",
    "from sklearn.model_selection import train_test_split\n",
    "from sklearn.metrics import accuracy_score\n",
    "from sklearn.impute import SimpleImputer\n",
    "\n",
    "# Load datasets\n",
    "train_data = pd.read_csv('/kaggle/input/testtrain/train.csv')\n",
    "test_data = pd.read_csv('/kaggle/input/testtrain/test.csv')"
   ]
  },
  {
   "cell_type": "code",
   "execution_count": 2,
   "id": "00c27eb3",
   "metadata": {
    "execution": {
     "iopub.execute_input": "2024-11-02T07:51:07.254729Z",
     "iopub.status.busy": "2024-11-02T07:51:07.253918Z",
     "iopub.status.idle": "2024-11-02T07:51:07.649572Z",
     "shell.execute_reply": "2024-11-02T07:51:07.648427Z"
    },
    "papermill": {
     "duration": 0.401715,
     "end_time": "2024-11-02T07:51:07.652165",
     "exception": false,
     "start_time": "2024-11-02T07:51:07.250450",
     "status": "completed"
    },
    "tags": []
   },
   "outputs": [],
   "source": [
    "def SMA(data, window):\n",
    "    return data.rolling(window=window).mean()\n",
    "\n",
    "def EMA(data, window):\n",
    "    return data.ewm(span=window, adjust=False).mean()\n",
    "\n",
    "def RSI(data, window):\n",
    "    delta = data.diff()\n",
    "    gain = (delta.where(delta > 0, 0)).rolling(window=window).mean()\n",
    "    loss = (-delta.where(delta < 0, 0)).rolling(window=window).mean()\n",
    "    RS = gain / loss\n",
    "    return 100 - (100 / (1 + RS))\n",
    "\n",
    "# Apply indicators\n",
    "window_sma, window_ema, window_rsi = 20, 20, 14\n",
    "train_data['sma'] = SMA(train_data['close'], window_sma)\n",
    "train_data['ema'] = EMA(train_data['close'], window_ema)\n",
    "train_data['rsi'] = RSI(train_data['close'], window_rsi)\n",
    "test_data['sma'] = SMA(test_data['close'], window_sma)\n",
    "test_data['ema'] = EMA(test_data['close'], window_ema)\n",
    "test_data['rsi'] = RSI(test_data['close'], window_rsi)"
   ]
  },
  {
   "cell_type": "code",
   "execution_count": 3,
   "id": "0fbc6f8a",
   "metadata": {
    "execution": {
     "iopub.execute_input": "2024-11-02T07:51:07.658181Z",
     "iopub.status.busy": "2024-11-02T07:51:07.657465Z",
     "iopub.status.idle": "2024-11-02T07:54:59.407043Z",
     "shell.execute_reply": "2024-11-02T07:54:59.405891Z"
    },
    "papermill": {
     "duration": 231.756785,
     "end_time": "2024-11-02T07:54:59.411119",
     "exception": false,
     "start_time": "2024-11-02T07:51:07.654334",
     "status": "completed"
    },
    "tags": []
   },
   "outputs": [
    {
     "name": "stdout",
     "output_type": "stream",
     "text": [
      "Accuracy: 0.5285167071860689\n"
     ]
    }
   ],
   "source": [
    "features = ['open', 'high', 'low', 'close', 'volume', 'sma', 'ema', 'rsi']\n",
    "X = train_data[features]\n",
    "y = train_data['target']\n",
    "imputer = SimpleImputer(strategy='mean')\n",
    "X = imputer.fit_transform(X)\n",
    "X_train, X_test, y_train, y_test = train_test_split(X, y, test_size=0.2, random_state=42)\n",
    "\n",
    "model = RandomForestClassifier(\n",
    "    n_estimators=100,    # Reduced number of trees\n",
    "    max_depth=10,        # Limiting tree depth\n",
    "    min_samples_leaf=50, # More samples per leaf\n",
    "    max_features='sqrt', # Reduced number of features considered\n",
    "    n_jobs=-1,           # Use all available CPU cores\n",
    "    random_state=42\n",
    ")\n",
    "model.fit(X_train, y_train)\n",
    "\n",
    "# Evaluate the model\n",
    "predictions = model.predict(X_test)\n",
    "print(\"Accuracy:\", accuracy_score(y_test, predictions))"
   ]
  },
  {
   "cell_type": "code",
   "execution_count": 4,
   "id": "d18b58c5",
   "metadata": {
    "execution": {
     "iopub.execute_input": "2024-11-02T07:54:59.416743Z",
     "iopub.status.busy": "2024-11-02T07:54:59.416140Z",
     "iopub.status.idle": "2024-11-02T07:55:03.243105Z",
     "shell.execute_reply": "2024-11-02T07:55:03.242045Z"
    },
    "papermill": {
     "duration": 3.832425,
     "end_time": "2024-11-02T07:55:03.245603",
     "exception": false,
     "start_time": "2024-11-02T07:54:59.413178",
     "status": "completed"
    },
    "tags": []
   },
   "outputs": [
    {
     "name": "stdout",
     "output_type": "stream",
     "text": [
      "Submission file created successfully.\n"
     ]
    }
   ],
   "source": [
    "X_submission = test_data[features]\n",
    "X_submission = imputer.transform(X_submission)  # Transform test data using the same imputer\n",
    "\n",
    "# Predict using the trained model\n",
    "test_data['target'] = model.predict(X_submission)\n",
    "\n",
    "# Save predictions to CSV\n",
    "submission = test_data[['row_id', 'target']]\n",
    "submission.to_csv('submission.csv', index=False)\n",
    "\n",
    "print(\"Submission file created successfully.\")"
   ]
  }
 ],
 "metadata": {
  "kaggle": {
   "accelerator": "none",
   "dataSources": [
    {
     "datasetId": 5954830,
     "sourceId": 9730717,
     "sourceType": "datasetVersion"
    }
   ],
   "dockerImageVersionId": 30786,
   "isGpuEnabled": false,
   "isInternetEnabled": true,
   "language": "python",
   "sourceType": "notebook"
  },
  "kernelspec": {
   "display_name": "Python 3",
   "language": "python",
   "name": "python3"
  },
  "language_info": {
   "codemirror_mode": {
    "name": "ipython",
    "version": 3
   },
   "file_extension": ".py",
   "mimetype": "text/x-python",
   "name": "python",
   "nbconvert_exporter": "python",
   "pygments_lexer": "ipython3",
   "version": "3.10.14"
  },
  "papermill": {
   "default_parameters": {},
   "duration": 248.573838,
   "end_time": "2024-11-02T07:55:03.767610",
   "environment_variables": {},
   "exception": null,
   "input_path": "__notebook__.ipynb",
   "output_path": "__notebook__.ipynb",
   "parameters": {},
   "start_time": "2024-11-02T07:50:55.193772",
   "version": "2.6.0"
  }
 },
 "nbformat": 4,
 "nbformat_minor": 5
}
